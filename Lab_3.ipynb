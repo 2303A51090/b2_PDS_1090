{
  "nbformat": 4,
  "nbformat_minor": 0,
  "metadata": {
    "colab": {
      "provenance": [],
      "authorship_tag": "ABX9TyNaHjknyIGOoCaedKr5JRiW",
      "include_colab_link": true
    },
    "kernelspec": {
      "name": "python3",
      "display_name": "Python 3"
    },
    "language_info": {
      "name": "python"
    }
  },
  "cells": [
    {
      "cell_type": "markdown",
      "metadata": {
        "id": "view-in-github",
        "colab_type": "text"
      },
      "source": [
        "<a href=\"https://colab.research.google.com/github/2303A51090/b2_PDS_1090/blob/main/Lab_3.ipynb\" target=\"_parent\"><img src=\"https://colab.research.google.com/assets/colab-badge.svg\" alt=\"Open In Colab\"/></a>"
      ]
    },
    {
      "cell_type": "code",
      "source": [
        "#Lab Question-01\n",
        "import numpy as np\n",
        "\n",
        "m1 = np.array([[1, 2, 3],\n",
        "               [4, 5, 6],\n",
        "               [7, 8, 9]])\n",
        "\n",
        "m2 = np.array([[9, 8, 7],\n",
        "               [6, 5, 4],\n",
        "               [3, 2, 1]])\n",
        "\n",
        "addition = np.add(m1, m2)\n",
        "Subtraction = np.subtract(m1, m2)\n",
        "print(\"Matrix 1:\\n\", m1)\n",
        "print(\"Matrix 2:\\n\", m2)\n",
        "print(\"Addition Result:\\n\", addition)\n",
        "print(\"Subtraction Result:\\n\", Subtraction)\n"
      ],
      "metadata": {
        "colab": {
          "base_uri": "https://localhost:8080/"
        },
        "id": "9Qi_wzLI3EYI",
        "outputId": "03db2fee-5d42-4fbf-b219-d35deb3aba50"
      },
      "execution_count": 11,
      "outputs": [
        {
          "output_type": "stream",
          "name": "stdout",
          "text": [
            "Matrix 1:\n",
            " [[1 2 3]\n",
            " [4 5 6]\n",
            " [7 8 9]]\n",
            "Matrix 2:\n",
            " [[9 8 7]\n",
            " [6 5 4]\n",
            " [3 2 1]]\n",
            "Addition Result:\n",
            " [[10 10 10]\n",
            " [10 10 10]\n",
            " [10 10 10]]\n",
            "Subtraction Result:\n",
            " [[-8 -6 -4]\n",
            " [-2  0  2]\n",
            " [ 4  6  8]]\n"
          ]
        }
      ]
    },
    {
      "cell_type": "code",
      "source": [
        "#Lab Question -2\n",
        "import numpy as np\n",
        "\n",
        "a = np.array([[1, 2],\n",
        "              [3, 4],\n",
        "              [5, 6]])\n",
        "\n",
        "b = np.array([[7, 8, 9],\n",
        "              [10, 11, 12]])\n",
        "\n",
        "dot_product = np.dot(a, b)\n",
        "print(\"Matrix A:\\n\", a)\n",
        "print(\"Matrix B:\\n\", b)\n",
        "print(\"Dot Product Result:\\n\", dot_product)\n"
      ],
      "metadata": {
        "colab": {
          "base_uri": "https://localhost:8080/"
        },
        "id": "4u0OJJcw3mIe",
        "outputId": "51fd8147-ffaa-4e0d-a882-2b526b46d14d"
      },
      "execution_count": 9,
      "outputs": [
        {
          "output_type": "stream",
          "name": "stdout",
          "text": [
            "Matrix A:\n",
            " [[1 2]\n",
            " [3 4]\n",
            " [5 6]]\n",
            "Matrix B:\n",
            " [[ 7  8  9]\n",
            " [10 11 12]]\n",
            "Dot Product Result:\n",
            " [[ 27  30  33]\n",
            " [ 61  68  75]\n",
            " [ 95 106 117]]\n"
          ]
        }
      ]
    },
    {
      "cell_type": "code",
      "source": [
        "#files\n",
        "file_name=\"student_data.txt\"\n",
        "name=input(\"Enter name: \")\n",
        "marks=input(\"Enter marks: \")\n",
        "with open(file_name,\"a\") as f:\n",
        "    f.write(f\"{name},{marks}\\n\")\n",
        "\n",
        "print(\"\\nAll Entries:\")\n",
        "with open(file_name,\"r\") as f:\n",
        "    for line in f:\n",
        "        n,m=line.strip().split(\",\")\n",
        "        print(f\"Name: {n}, Marks: {m}\")"
      ],
      "metadata": {
        "colab": {
          "base_uri": "https://localhost:8080/"
        },
        "id": "kH-g6THA405O",
        "outputId": "7c91f632-a5f1-459c-dbcc-eda954333caf"
      },
      "execution_count": 15,
      "outputs": [
        {
          "output_type": "stream",
          "name": "stdout",
          "text": [
            "Enter name: anand\n",
            "Enter marks: 90\n",
            "\n",
            "All Entries:\n",
            "Name: Anand, Marks: 90\n",
            "Name: Anand, Marks: 90\n",
            "Name: anand, Marks: 90\n"
          ]
        }
      ]
    }
  ]
}