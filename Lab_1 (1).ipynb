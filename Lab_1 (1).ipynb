{
  "nbformat": 4,
  "nbformat_minor": 0,
  "metadata": {
    "colab": {
      "provenance": []
    },
    "kernelspec": {
      "name": "python3",
      "display_name": "Python 3"
    },
    "language_info": {
      "name": "python"
    }
  },
  "cells": [
    {
      "cell_type": "code",
      "execution_count": null,
      "metadata": {
        "colab": {
          "base_uri": "https://localhost:8080/"
        },
        "id": "eqgCM3GN-lLZ",
        "outputId": "d68adeb6-964e-4f3a-e80d-29271c53cb4a"
      },
      "outputs": [
        {
          "output_type": "stream",
          "name": "stdout",
          "text": [
            "5\n",
            "120\n"
          ]
        }
      ],
      "source": [
        "def fact(n, d=0):\n",
        "    space = \"  \" * d\n",
        "    if n == 0 or n == 1:\n",
        "        return 1\n",
        "    else:\n",
        "        r = n * fact(n - 1, d + 1)\n",
        "        return r\n",
        "\n",
        "n = int(input())\n",
        "if 0 <= n <= 10:\n",
        "    r = fact(n)\n",
        "    print(r)\n",
        "else:\n",
        "    print(\"Invalid\")\n"
      ]
    }
  ]
}